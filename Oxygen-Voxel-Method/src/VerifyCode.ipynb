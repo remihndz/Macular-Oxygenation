{
 "cells": [
  {
   "cell_type": "code",
   "execution_count": 28,
   "metadata": {},
   "outputs": [],
   "source": [
    "import matplotlib\n",
    "%matplotlib qt5\n",
    "import matplotlib.pyplot as plt\n",
    "import numpy as np\n",
    "import scipy.sparse.linalg as spl\n",
    "import scipy.sparse as sp \n",
    "import matplotlib.colors as colors\n",
    "import time"
   ]
  },
  {
   "attachments": {},
   "cell_type": "markdown",
   "id": "47e28686",
   "metadata": {},
   "source": [
    "# Parameters"
   ]
  },
  {
   "attachments": {},
   "cell_type": "markdown",
   "id": "a5455050",
   "metadata": {},
   "source": [
    "## Model parameters"
   ]
  },
  {
   "cell_type": "code",
   "execution_count": 29,
   "id": "b638e628",
   "metadata": {},
   "outputs": [
    {
     "name": "stdout",
     "output_type": "stream",
     "text": [
      "2.0741691785719655e-09\n"
     ]
    }
   ],
   "source": [
    "D = 1800.00 * 1e-6\n",
    "k = 4.5\n",
    "Rg = 62.36*1e6 # Ideal gas constant, in mm3.mmHg.K-1.mol-1 \n",
    "Tb = 309.25    # Blood temperature, 36.1*C in Kelvin\n",
    "c0 = 40/(Rg*Tb) # Arterial oxygen concentration, in mol.mm-3\n",
    "w = 1.00*1e-3\n",
    "U = 2400.00 *1e-6\n",
    "f = 44/60 * 1e-4 # Blood flow in mm3.s-1\n",
    "print(c0)"
   ]
  },
  {
   "attachments": {},
   "cell_type": "markdown",
   "id": "79247a5b",
   "metadata": {},
   "source": [
    "## Geometric parameters"
   ]
  },
  {
   "cell_type": "code",
   "execution_count": 30,
   "id": "eaf65dcc",
   "metadata": {},
   "outputs": [
    {
     "name": "stdout",
     "output_type": "stream",
     "text": [
      "0.0995 0.2495\n"
     ]
    }
   ],
   "source": [
    "r = 0.005 # Radius\n",
    "l = 1e-1# 50*1e-3\n",
    "dx = dy = 0.0005\n",
    "dt = 0.1\n",
    "x = np.arange(0,l,dx)\n",
    "y = np.arange(0,50*r,dy) \n",
    "L,H = x.max(), y.max()\n",
    "X,Y = np.meshgrid(x,y)\n",
    "nx = x.size\n",
    "ny = y.size\n",
    "print(x.max(), y.max())"
   ]
  },
  {
   "attachments": {},
   "cell_type": "markdown",
   "metadata": {},
   "source": [
    "# Make advection in vessel"
   ]
  },
  {
   "cell_type": "code",
   "execution_count": 31,
   "metadata": {},
   "outputs": [],
   "source": [
    "gamma = U/w*dx\n",
    "#C = sp.diags([f/dx,-f/dx-gamma], [-1,0], shape=(nx+1, nx+1+nx*ny), format='lil')\n",
    "C = sp.diags([f/dx,-f/dx], [-1,0], shape=(nx+1, nx+1), format='lil')\n",
    "C[0,0] = 1\n",
    "# for i in range(nx):\n",
    "#     C[1+i, nx+1+i] = gamma\n",
    "C = C.tocsr()"
   ]
  },
  {
   "attachments": {},
   "cell_type": "markdown",
   "metadata": {},
   "source": [
    "# Make diffusion reaction matrix"
   ]
  },
  {
   "cell_type": "code",
   "execution_count": 32,
   "id": "0e9cfa11",
   "metadata": {},
   "outputs": [
    {
     "name": "stdout",
     "output_type": "stream",
     "text": [
      "nx=200 ny=500\n"
     ]
    }
   ],
   "source": [
    "coeffs = [dx/dy*D, dy/dx*D, 0, dy/dx*D, dx/dy*D]\n",
    "coeffs[2] = -sum(coeffs) - k*dx*dy#x.max()*y.max()\n",
    "offsets = np.array([-nx, -1, 0, 1, nx])\n",
    "print(f\"{nx=} {ny=}\")"
   ]
  },
  {
   "cell_type": "code",
   "execution_count": 33,
   "id": "5b33f4c0",
   "metadata": {},
   "outputs": [],
   "source": [
    "M = sp.diags(coeffs, [-nx, -1, 0, 1, nx], shape=(nx*ny, nx*ny), format='lil')\n",
    "for j in range(y.size):\n",
    "    for i in range(x.size):\n",
    "        cell = j*nx + i\n",
    "        if i==0:\n",
    "            M[cell,cell] += coeffs[1]\n",
    "            if cell-1 >= 0:\n",
    "                M[cell, cell-1] = 0.0\n",
    "        if i==nx-1:\n",
    "            M[cell, cell] += coeffs[3]\n",
    "            if cell+1 < M.shape[1]:\n",
    "                M[cell, cell+1] = 0.0\n",
    "        if j==0:\n",
    "            M[cell, cell] += coeffs[0] - D*gamma\n",
    "        if j==ny-1:\n",
    "            M[cell, cell] += coeffs[4]\n",
    "\n",
    "M = M.tocsr()"
   ]
  },
  {
   "cell_type": "code",
   "execution_count": 34,
   "metadata": {},
   "outputs": [],
   "source": [
    "# K = sp.vstack([C,M])\n",
    "# b = np.zeros(K.shape[0])\n",
    "# b[0] = 1\n",
    "# plt.spy(K)"
   ]
  },
  {
   "attachments": {},
   "cell_type": "markdown",
   "metadata": {},
   "source": [
    "# Make RHS and solve iteratively"
   ]
  },
  {
   "cell_type": "code",
   "execution_count": 35,
   "metadata": {},
   "outputs": [],
   "source": [
    "# c = spl.spsolve(K, b)*Rg*Tb\n",
    "# cv, ct = c[:nx+1], c[nx+1:]"
   ]
  },
  {
   "cell_type": "code",
   "execution_count": 36,
   "metadata": {},
   "outputs": [
    {
     "name": "stdout",
     "output_type": "stream",
     "text": [
      "count=1: err=29.6589911550264 0.0 40.0\n",
      "count=2: err=40.14050708458743 0.11201085915122776 37.815287200361794\n",
      "count=3: err=35.795840766434225 0.16917348180491906 46.11342745089359\n",
      "count=4: err=24.889671775782006 0.08297167204764759 29.445812995670565\n",
      "count=5: err=14.069351292941562 0.09195299008225322 25.155448440745747\n",
      "count=6: err=6.619261452018887 0.04290340391134844 15.543420522362078\n",
      "count=7: err=2.612755116559251 0.05300374882786071 14.58445410413309\n",
      "count=8: err=0.8546512319151469 0.04222740143350669 12.18314428499198\n",
      "count=9: err=0.21931400698438666 0.0453641897834741 12.51104438441688\n",
      "count=10: err=0.03746575672216469 0.04472083026594047 12.336433799018462\n",
      "count=11: err=0.01181904663349005 0.04473977782087016 12.341576248252487\n",
      "count=12: err=0.008425901244946209 0.044804034410634234 12.359015767601509\n",
      "count=13: err=0.003990044856738931 0.04476297599762111 12.347872334829681\n",
      "count=14: err=0.001458729617930116 0.04478030349911319 12.352575094478945\n",
      "count=15: err=0.0004268050745861891 0.044774590301126314 12.351024507571008\n",
      "count=16: err=9.349074588865163e-05 0.04477604380594094 12.351418995131452\n",
      "count=17: err=1.3949608537987259e-05 0.04477582214664698 12.351358835830121\n",
      "count=18: err=8.447218893620544e-06 0.04477578960336616 12.351350003441453\n",
      "count=19: err=5.016511931482996e-06 0.04477583448116221 12.351362183471478\n",
      "count=20: err=2.126237562862654e-06 0.04477581118438224 12.351355860623555\n"
     ]
    }
   ],
   "source": [
    "cv = np.ones(x.size+1)*c0 # Add a ghost cell for the inlet\n",
    "ct = np.ones(nx*ny)*0\n",
    "\n",
    "bv = np.zeros(x.size+1)\n",
    "bt = np.zeros(nx*ny)\n",
    "bv[0] = c0\n",
    "\n",
    "epsilon = 1e-7\n",
    "err = 1\n",
    "count = 0\n",
    "maxcount = 20\n",
    "while err > epsilon and count<maxcount:\n",
    "    bv[1:] = (cv[1:]-ct[:nx])*gamma *2 # *2 to account for the symmetry (tissue on the other side)\n",
    "    cvnew = spl.spsolve(C, bv)\n",
    "\n",
    "    #bt[:nx] = (ct[:nx]-cvnew[1:])*U/w*dx\n",
    "    bt[:nx] = -cvnew[1:]*gamma*D\n",
    "    ctnew = spl.spsolve(M, bt)\n",
    "\n",
    "    err = np.linalg.norm(ctnew-ct)/c0 + np.linalg.norm(cvnew-cv)/c0\n",
    "    count+=1\n",
    "    print(f\"{count=}: {err=} {abs(ct).mean()*Rg*Tb} {abs(cv).mean()*Rg*Tb}\")\n",
    "    ct, cv = ctnew, cvnew\n",
    "\n",
    "cv *= (Rg*Tb)\n",
    "ct *= (Rg*Tb)"
   ]
  },
  {
   "attachments": {},
   "cell_type": "markdown",
   "metadata": {},
   "source": [
    "# Plot"
   ]
  },
  {
   "cell_type": "code",
   "execution_count": 37,
   "metadata": {},
   "outputs": [],
   "source": [
    "fig, ax = plt.subplots(1,2, figsize=(12,4))\n",
    "ax = ax.ravel()\n",
    "## Linear plot\n",
    "#c = ax[0].pcolormesh(X,Y,ct.reshape(X.shape), cmap='RdBu')#, vmin=u.min(), vmax=u.max())\n",
    "c = ax[0].contourf(X,Y, ct.reshape(X.shape), cmap='RdBu', levels=50,vmin=0, vmax=2)\n",
    "## Log plot\n",
    "#c = ax[0].pcolormesh(X,Y, ct.reshape(X.shape), cmap='RdBu', \n",
    "#                   norm=colors.LogNorm(vmin=ct.min(), vmax=ct.max()))\n",
    "fig.colorbar(c, ax=ax[0], extend='max')\n",
    "\n",
    "ax[1].plot(np.arange(cv.size)*dx-dx, cv, label='Vascular nodes O2 concentration')\n",
    "plt.legend()\n",
    "plt.suptitle(f\"Convergence error: {err}\")\n",
    "plt.show()"
   ]
  },
  {
   "cell_type": "code",
   "execution_count": 38,
   "metadata": {},
   "outputs": [],
   "source": [
    "# plt.figure()\n",
    "# bv = np.zeros(cv.size)\n",
    "# bv[0] = c0\n",
    "# cv = spl.spsolve(C,bv)*Rg*Tb\n",
    "# plt.plot(cv)"
   ]
  }
 ],
 "metadata": {
  "kernelspec": {
   "display_name": "Python 3",
   "language": "python",
   "name": "python3"
  },
  "language_info": {
   "codemirror_mode": {
    "name": "ipython",
    "version": 3
   },
   "file_extension": ".py",
   "mimetype": "text/x-python",
   "name": "python",
   "nbconvert_exporter": "python",
   "pygments_lexer": "ipython3",
   "version": "3.10.6"
  },
  "orig_nbformat": 4,
  "vscode": {
   "interpreter": {
    "hash": "916dbcbb3f70747c44a77c7bcd40155683ae19c65e1c03b4aa3499c5328201f1"
   }
  }
 },
 "nbformat": 4,
 "nbformat_minor": 2
}
