{
 "cells": [
  {
   "cell_type": "code",
   "execution_count": 5,
   "id": "8dc78e61",
   "metadata": {},
   "outputs": [
    {
     "name": "stdout",
     "output_type": "stream",
     "text": [
      "5.2.1\n"
     ]
    }
   ],
   "source": [
    "import matplotlib\n",
    "%matplotlib qt5\n",
    "from matplotlib.patches import Circle\n",
    "import scipy.sparse as sp\n",
    "import scipy.sparse.linalg as spl\n",
    "from scipy.integrate import simps\n",
    "import numpy as np\n",
    "import matplotlib.pylab as plt\n",
    "import matplotlib.colors as colors\n",
    "import time\n",
    "import sys\n",
    "from astropy import units as u\n",
    "from astropy.constants import R # Ideal gas constant                                                                                                                                                               \n",
    "import astropy"
   ]
  },
  {
   "cell_type": "markdown",
   "id": "47e28686",
   "metadata": {},
   "source": [
    "# Parameters"
   ]
  },
  {
   "cell_type": "markdown",
   "id": "a5455050",
   "metadata": {},
   "source": [
    "## Model parameters"
   ]
  },
  {
   "cell_type": "code",
   "execution_count": 6,
   "id": "62e1e0f5",
   "metadata": {},
   "outputs": [
    {
     "name": "stdout",
     "output_type": "stream",
     "text": [
      "Simulation coefficients:                                                                                                                                                                                 \n",
      "\tInlet concentration: c0=<Quantity 50. Torr>                                                                                                                                                                                       \n",
      "\tWall thickness: w=<Quantity 1. um>                                                                                                                                                                                             \n",
      "\tDiffusion: D=<Quantity 1800. micron um / s>                                                                                                                                                                                                  \n",
      "\tWall permeability: U=<Quantity 2400. micron um / s>                                                                                                                                                                                          \n",
      "\tTissue consumption: kt=<Quantity 0. 1 / min>                                                                                                                                                                                        \n",
      "\tInlet blood flow (may not be used): f_CRA=<Quantity 49.34 ul / min>                                                                                                                                                                     \n",
      "\n"
     ]
    }
   ],
   "source": [
    "unitsL = u.Unit('cm')                                                                                                                                                                                              \n",
    "unitsT = u.Unit('ms')                                                                                                                                                                                              \n",
    "                                                                                                                                                                                                                   \n",
    "#R = R.to((unitsL**3) * u.torr / u.K / u.mol) # Gas constant                                                                                                                                                       \n",
    "f_CRA = 49.34 * u.uL/u.min                                                                                                                                                                                         \n",
    "w = 1*u.um # 1 micron                                                                                                                                                                                              \n",
    "U = 2400 * u.um*u.Unit('micron')/u.s # Permeability in um^2/s                                                                                                                                                      \n",
    "D = 1800 * u.um*u.Unit('micron')/u.s # Diffusion in um^2/s                                                                                                                                                         \n",
    "c0 = 50 * u.torr                                                                                                                                                                                                   \n",
    "kt = 4.5 / u.min *0                                                                                                                                                                                                \n",
    "Tb = 309.25 * u.K    # Blood temperature, 36.1*C in Kelvin                                                                                                                                                         \n",
    "spacing = u.Quantity([5, 5, 10], 'micron')                                                                                                                                                                         \n",
    "                                                                                                                                                                                                                   \n",
    "print(f\"\"\"Simulation coefficients:                                                                                                                                                                                 \n",
    "\\tInlet concentration: {c0=}                                                                                                                                                                                       \n",
    "\\tWall thickness: {w=}                                                                                                                                                                                             \n",
    "\\tDiffusion: {D=}                                                                                                                                                                                                  \n",
    "\\tWall permeability: {U=}                                                                                                                                                                                          \n",
    "\\tTissue consumption: {kt=}                                                                                                                                                                                        \n",
    "\\tInlet blood flow (may not be used): {f_CRA=}                                                                                                                                                                     \n",
    "\"\"\")       \n",
    "\n",
    "c0 = c0/R/Tb                                                                                                                                                                                                       \n",
    "w = w.to_value(unitsL)                                                                                                                                                                                       \n",
    "f_CRA = f_CRA.to_value(unitsL**3 / unitsT)                                                                                                                                                                   \n",
    "U = U.to_value(unitsL**2 / unitsT)                                                                                                                                                                           \n",
    "D = D.to_value(unitsL**2 / unitsT)                                                                                                                                                                           \n",
    "kt = kt.to_value(unitsT**-1)                                                                                                                                                                                 \n",
    "c0 = c0.to_value(u.mol / (unitsL**3))"
   ]
  },
  {
   "cell_type": "markdown",
   "id": "79247a5b",
   "metadata": {},
   "source": [
    "## Geometric parameters"
   ]
  },
  {
   "cell_type": "code",
   "execution_count": 3,
   "id": "eaf65dcc",
   "metadata": {},
   "outputs": [
    {
     "name": "stdout",
     "output_type": "stream",
     "text": [
      "i0*dy=0.12000000000000001 i1*dy=0.13 j0*dx=0.0 j1*dx=0.1004\n"
     ]
    }
   ],
   "source": [
    "r = (10*u.um).to_value(unitsL) # Radius\n",
    "l = (100*u.um).to_value(unitsL)\n",
    "\n",
    "x = np.arange(0,l+dx,dx)\n",
    "y = np.arange(0,50*r+dy,dy) \n",
    "L,H = x.max(), y.max()\n",
    "X,Y = np.meshgrid(x,y)\n",
    "nx = x.size\n",
    "ny = y.size\n",
    "# Corners of the vessel\n",
    "\n",
    "i0, i1 = int((y.max()/2-r)/dx), int((y.max()/2+r)/dx) # int(7*ny/16), int(9*ny/16)\n",
    "j0, j1 = 0*int(4*nx/16), nx #int(12*nx/16)\n",
    "\n",
    "# i0, i1 = int(7*ny/16), int(9*ny/16)\n",
    "# j0, j1 = int(4*nx/16), int(12*nx/16)\n",
    "print(f\"{i0*dy=} {i1*dy=} {j0*dx=} {j1*dx=}\")"
   ]
  },
  {
   "cell_type": "code",
   "execution_count": 33,
   "id": "0e9cfa11",
   "metadata": {},
   "outputs": [
    {
     "name": "stdout",
     "output_type": "stream",
     "text": [
      "nx=251 ny=626 nx*ny=157126\n"
     ]
    }
   ],
   "source": [
    "coeffs = [dx/dy*D, dy/dx*D, 0, dy/dx*D, dx/dy*D]\n",
    "coeffs[2] = -sum(coeffs)# - k*dx*dy\n",
    "offsets = [-nx, -1, 0, 1, nx]\n",
    "print(f\"{nx=} {ny=} {nx*ny=}\")"
   ]
  },
  {
   "cell_type": "markdown",
   "id": "e258000c",
   "metadata": {},
   "source": [
    "# Testing reaction diffusion sub-system"
   ]
  },
  {
   "cell_type": "code",
   "execution_count": 5,
   "id": "5b33f4c0",
   "metadata": {},
   "outputs": [],
   "source": [
    "# M = sp.diags(coeffs, [-nx, -1, 0, 1, nx], shape=(nx*ny, nx*ny), format='lil')\n",
    "# for j in range(y.size):\n",
    "#     for i in range(x.size):\n",
    "#         cell = j*nx + i\n",
    "#         if i==0:\n",
    "#             M[cell,cell] += coeffs[1]\n",
    "#             if cell-1 >= 0:\n",
    "#                 M[cell, cell-1] = 0.0\n",
    "#         if i==nx-1:\n",
    "#             M[cell, cell] += coeffs[3]\n",
    "#             if cell+1 < M.shape[1]:\n",
    "#                 M[cell, cell+1] = 0.0\n",
    "#         if j==0:\n",
    "#             M[cell, cell] += coeffs[0]\n",
    "#         if j==ny-1:\n",
    "#             M[cell, cell] += coeffs[4]\n"
   ]
  },
  {
   "cell_type": "code",
   "execution_count": 6,
   "id": "3430512c",
   "metadata": {},
   "outputs": [],
   "source": [
    "# u = np.zeros(X.size)\n",
    "# deletecells = sp.eye(M.shape[0]).tolil()\n",
    "# for j, yj in enumerate(y):\n",
    "#     for i, xi in enumerate(x):\n",
    "#         if (xi-0.5)**2 + (yj-0.5)**2 < 0.2**2:\n",
    "#             cell = i + j*nx\n",
    "#             deletecells[cell, cell] = 0.0\n",
    "#             u[cell]= 1.0\n",
    "u = np.zeros_like(X)\n",
    "u[i0:i1, j0:j1] = 1.0\n",
    "u = u.reshape((-1,))\n",
    "# for i in np.nonzero(u):\n",
    "#     deletecells[i,i] = 0\n",
    "\n",
    "# print(f\"{u.mean()=}, {u.min()=}, {u.max()=} {u.sum()=}\")\n",
    "# fig, ax = plt.subplots()\n",
    "# c = ax.pcolormesh(X,Y, u.reshape(X.shape), cmap='RdBu', vmin=u.min(), vmax=u.max())\n",
    "# fig.colorbar(c, ax=ax)\n",
    "# plt.show()"
   ]
  },
  {
   "cell_type": "code",
   "execution_count": 7,
   "id": "ac28a7de",
   "metadata": {},
   "outputs": [],
   "source": [
    "# M = deletecells.dot(M)\n",
    "# A = -dt*M + sp.eye(M.shape[0])\n",
    "# A = A.tocsr()\n",
    "# for k in range(10):\n",
    "#     u = spl.spsolve(A, u)\n",
    "#     print(f\"{u.mean()=}, {u.min()=}, {u.max()=}\")"
   ]
  },
  {
   "cell_type": "code",
   "execution_count": 8,
   "id": "11856706",
   "metadata": {},
   "outputs": [],
   "source": [
    "# fig, ax = plt.subplots()\n",
    "# c = ax.pcolormesh(X,Y, u.reshape(X.shape), cmap='RdBu', vmin=u.min(), vmax=u.max())\n",
    "# fig.colorbar(c, ax=ax)\n",
    "# circ = Circle((0.5,0.5), 0.2, fill=False, linestyle='--', linewidth=3)\n",
    "# ax.add_patch(circ)\n",
    "# plt.show()"
   ]
  },
  {
   "cell_type": "markdown",
   "id": "98244760",
   "metadata": {},
   "source": [
    "# Build convection matrix"
   ]
  },
  {
   "cell_type": "code",
   "execution_count": 9,
   "id": "734af594",
   "metadata": {},
   "outputs": [],
   "source": [
    "nPts = j1-j0\n",
    "nVol = nx*ny\n",
    "C = sp.diags([-f/dx,f/dx], [-1,0], shape=(nPts, nPts+nVol), format='lil')\n",
    "#C[nPts-1,nPts] = 0\n",
    "#C[0,1] = 0 # Will be a fixed inlet concentration\n",
    "C = C.tocsr() \n",
    "# Add empty rows at the bottom of C to make it the right size\n",
    "indptr = C.indptr.tolist()\n",
    "for i in range(nVol):\n",
    "    indptr.append(indptr[-1])\n",
    "C = sp.csr_matrix((C.data, C.indices, indptr), shape=(nPts+nVol, nPts+nVol))"
   ]
  },
  {
   "cell_type": "markdown",
   "id": "e74bb6e7",
   "metadata": {},
   "source": [
    "# Connectivity matrices"
   ]
  },
  {
   "cell_type": "markdown",
   "id": "a609cf3d",
   "metadata": {},
   "source": [
    "## Build matrix equating vascular voxel concentrations to nodal concentration"
   ]
  },
  {
   "cell_type": "code",
   "execution_count": 10,
   "id": "bd4942e3",
   "metadata": {},
   "outputs": [],
   "source": [
    "NodesToEndothelialCells = sp.lil_matrix((nPts, nPts+nVol))\n",
    "for node, j in enumerate(range(j0, j1)):\n",
    "    for i in [i0-1,i1]:\n",
    "        cell = i*nx + j\n",
    "        # NodesToEndothelialCells[node, node] += -1\n",
    "        NodesToEndothelialCells[node, node] = -1\n",
    "        NodesToEndothelialCells[node, nPts+cell] = 1\n",
    "for i in range(i0, i1):\n",
    "    for node, j in zip([0, nPts-1],[j0-1,j1]):\n",
    "        if j<0 or j>nx-1:\n",
    "            continue\n",
    "        cell = i*nx + j\n",
    "        NodesToEndothelialCells[node, nPts+cell] = 1\n",
    "        NodesToEndothelialCells[node, node] = -1        \n",
    "        # NodesToEndothelialCells[node, node] += -1        \n",
    "\n",
    "# for node in range(nPts):\n",
    "#     nAdjacentEndothelialCells = NodesToEndothelialCells[node, nPts:].nonzero()[0].size\n",
    "#     NodesToEndothelialCells[node, nPts:] /= nAdjacentEndothelialCells   "
   ]
  },
  {
   "cell_type": "markdown",
   "id": "c17c5a9e",
   "metadata": {},
   "source": [
    "## Labels"
   ]
  },
  {
   "cell_type": "code",
   "execution_count": 11,
   "id": "266fb85f",
   "metadata": {},
   "outputs": [],
   "source": [
    "Arr = NodesToEndothelialCells.toarray()\n",
    "labels = np.zeros(nVol)\n",
    "for j in range(j0, j1):\n",
    "    for i in range(i0, i1):\n",
    "        labels[i*nx+j] = 1\n",
    "\n",
    "for node in range(nPts):\n",
    "    labels[np.nonzero(Arr[node, nPts:])] = 2 \n",
    "\n",
    "# fig, ax = plt.subplots()\n",
    "# #c = ax.pcolormesh(X,Y,labels.reshape(X.shape), cmap='RdBu')#, edgecolor='k')\n",
    "# c = ax.pcolormesh(labels.reshape(X.shape)[i1:,:], cmap='RdBu')#, edgecolor='k')\n",
    "# plt.colorbar(c, ax=ax, label='0 for tissue, 1 for vessel, 2 for endothelial cells')"
   ]
  },
  {
   "cell_type": "markdown",
   "id": "06893ed0",
   "metadata": {},
   "source": [
    "## Matrix linking vascular voxels with vascular node"
   ]
  },
  {
   "cell_type": "code",
   "execution_count": 12,
   "id": "dcdc79c2",
   "metadata": {},
   "outputs": [
    {
     "name": "stdout",
     "output_type": "stream",
     "text": [
      "False\n"
     ]
    }
   ],
   "source": [
    "C4 = sp.lil_matrix((nVol, nPts))\n",
    "I4 = np.zeros(nVol)\n",
    "uVascularNodeToVoxel = np.zeros(nVol)\n",
    "for node,j in enumerate(range(j0, j1)):\n",
    "    for i in range(i0, i1):\n",
    "        cell = i*nx+j\n",
    "        C4[cell,node] = 1\n",
    "        I4[cell] = 1\n",
    "        uVascularNodeToVoxel[cell] = node+1\n",
    "I4 = sp.diags([I4], [0]).tocsr()\n",
    "\n",
    "# Check the loss\n",
    "cv = np.ones(nPts) # Vascular nodal oxygen\n",
    "print(np.any(I4.dot(u)-C4.dot(cv)!=0.0)) # Return False if each voxel's oxygen is equal to its corresponding node's oxygen \n",
    "\n",
    "# fig, ax = plt.subplots()\n",
    "# c = ax.pcolormesh(uVascularNodeToVoxel.reshape(X.shape), cmap='RdBu', edgecolor='k')\n",
    "# plt.colorbar(c, ax=ax, label='Linked to node')"
   ]
  },
  {
   "cell_type": "markdown",
   "id": "2987cfdd",
   "metadata": {},
   "source": [
    "# Build mass exchange between vessels and tissue"
   ]
  },
  {
   "cell_type": "code",
   "execution_count": 13,
   "id": "daa743a1",
   "metadata": {},
   "outputs": [],
   "source": [
    "# V = dx#x.max()*y.max() # *dx*dy\n",
    "A = 2*np.pi*r*L\n",
    "Gamma = sp.diags([np.ones(nPts)*U*A/w], [0], shape=(nPts, nPts))\n",
    "MassExchange = -NodesToEndothelialCells.T.dot(Gamma).dot(NodesToEndothelialCells)\n",
    "\n",
    "# fig, ax = plt.subplots()\n",
    "# c = ax.pcolormesh(abs(MassExchange.toarray()), cmap='RdBu')\n",
    "# fig.colorbar(c, ax=ax)\n",
    "# plt.show()"
   ]
  },
  {
   "cell_type": "markdown",
   "id": "a3218c0c",
   "metadata": {},
   "source": [
    "### Check if endothelial cells are connected to the right vascular nodes"
   ]
  },
  {
   "cell_type": "code",
   "execution_count": 14,
   "id": "eb4b84d7",
   "metadata": {},
   "outputs": [],
   "source": [
    "Arr = NodesToEndothelialCells.toarray()\n",
    "uCheckConnectionEndoToNode = uVascularNodeToVoxel\n",
    "for node in range(nPts):\n",
    "    uCheckConnectionEndoToNode[np.nonzero(Arr[node, nPts:])] = node+1\n",
    "\n",
    "# fig, ax = plt.subplots()\n",
    "# c = ax.pcolormesh(uCheckConnectionEndoToNode.reshape(X.shape), cmap='RdBu', edgecolor='k')\n",
    "# plt.colorbar(c, ax=ax)\n",
    "# plt.show()"
   ]
  },
  {
   "cell_type": "markdown",
   "id": "1a7573d1",
   "metadata": {},
   "source": [
    "# Reaction-Diffusion matrices"
   ]
  },
  {
   "cell_type": "markdown",
   "id": "f5a00af5",
   "metadata": {},
   "source": [
    "## Diffusion part (including BC)"
   ]
  },
  {
   "cell_type": "code",
   "execution_count": 15,
   "id": "c16c5a57",
   "metadata": {},
   "outputs": [
    {
     "name": "stdout",
     "output_type": "stream",
     "text": [
      "nx=251 ny=626\n"
     ]
    }
   ],
   "source": [
    "coeffs = [dx/dy*D, dy/dx*D, 0, dy/dx*D, dx/dy*D]\n",
    "coeffs[2] = -sum(coeffs)\n",
    "offsets = [-nx, -1, 0, 1, nx]\n",
    "print(f\"{nx=} {ny=}\")\n",
    "M = sp.diags(coeffs, [-nx, -1, 0, 1, nx], shape=(nx*ny, nx*ny), format='lil')\n",
    "\n",
    "# Tissue external boundary conditions\n",
    "for j in range(y.size):\n",
    "    for i in range(x.size):\n",
    "        cell = j*nx + i\n",
    "        if i==0:\n",
    "            M[cell,cell] += coeffs[1]\n",
    "            if cell-1 >= 0:\n",
    "                M[cell, cell-1] = 0.0\n",
    "        if i==nx-1:\n",
    "            M[cell, cell] += coeffs[3]\n",
    "            if cell+1 < M.shape[1]:\n",
    "                M[cell, cell+1] = 0.0\n",
    "        if j==0:\n",
    "            M[cell, cell] += coeffs[0]\n",
    "        if j==ny-1:\n",
    "            M[cell, cell] += coeffs[4]"
   ]
  },
  {
   "cell_type": "markdown",
   "id": "dce2fec5",
   "metadata": {},
   "source": [
    "## Make the consumption rate matrix and diffusion matrix (cells with no consumption/no diffusion need to be excluded)"
   ]
  },
  {
   "cell_type": "code",
   "execution_count": 16,
   "id": "956d71de",
   "metadata": {},
   "outputs": [],
   "source": [
    "deleteVascularCells = np.ones(nVol)\n",
    "offsets.pop(2)\n",
    "coeffs.pop(2)\n",
    "V = x.max()*y.max()*r \n",
    "R = np.ones(nVol)*k*V \n",
    "for i,label in enumerate(labels):\n",
    "    if label==1:\n",
    "        deleteVascularCells[i] = 0\n",
    "    if label==2:\n",
    "        #R[i] /= k # Je me souviens pas pourquoi j'ai mis ca \n",
    "        # R[i] = 0\n",
    "        # Tissue internal (endothelial to vascular voxels) boundary conditions.\n",
    "        # Get rid of diffusion from vascular voxels to endothelial voxels\n",
    "        for offset, coeff in zip(offsets, coeffs):\n",
    "            if i+offset>=0:\n",
    "                try:\n",
    "                    if label[i+offset] == 1:\n",
    "                        M[i, i+offset] = 0.0\n",
    "                        M[i, i] -= coeff\n",
    "                except:\n",
    "                    pass\n",
    "\n",
    "deleteVascularCells = sp.diags([deleteVascularCells], [0])\n",
    "\n",
    "R = sp.diags([R], [0])\n",
    "R = deleteVascularCells.dot(R)\n",
    "M = deleteVascularCells.dot(M)"
   ]
  },
  {
   "cell_type": "code",
   "execution_count": 17,
   "id": "2eb135b2",
   "metadata": {},
   "outputs": [
    {
     "name": "stdout",
     "output_type": "stream",
     "text": [
      "251 157126\n",
      "MassExchange.shape=(157377, 157377) C.shape=(157377, 157377) M.shape=(157126, 157126) R.shape=(157126, 157126) C4.shape=(157126, 251) I4.shape=(157126, 157126)\n",
      "2259 6777\n"
     ]
    }
   ],
   "source": [
    "print(nPts, nVol)\n",
    "print(f\"{MassExchange.shape=} {C.shape=} {M.shape=} {R.shape=} {C4.shape=} {I4.shape=}\")\n",
    "print(MassExchange.nnz, labels[labels>0].size)"
   ]
  },
  {
   "cell_type": "markdown",
   "id": "7b763d0b",
   "metadata": {},
   "source": [
    "# Combine and reshape sub-matrices before combining them"
   ]
  },
  {
   "cell_type": "code",
   "execution_count": 18,
   "id": "972e5e01",
   "metadata": {},
   "outputs": [
    {
     "name": "stdout",
     "output_type": "stream",
     "text": [
      "MassExchange.shape=(157377, 157377) C.shape=(157377, 157377) Md.shape=(157377, 157377) M4.shape=(157377, 157377)\n",
      "--- 0.013117074966430664 seconds for matrix addition ---\n"
     ]
    }
   ],
   "source": [
    "# Equations associating vascular cells and nodes\n",
    "M4 = sp.vstack([sp.csr_matrix((nPts, nPts+nVol)), sp.hstack([-C4, I4])])\n",
    "# Reaction diffusion equations\n",
    "Md = sp.vstack([sp.csr_matrix((nPts, nPts+nVol)), sp.hstack([sp.csr_matrix((nVol, nPts)), M-R])])\n",
    "print(f\"{MassExchange.shape=} {C.shape=} {Md.shape=} {M4.shape=}\")\n",
    "\n",
    "start_time = time.time()\n",
    "K = C.tocsr() - MassExchange.tocsr() + Md.tocsr() + M4.tocsr()\n",
    "K = sp.hstack([sp.csr_matrix((nPts+nVol,1)), K])\n",
    "K = sp.vstack([sp.csr_matrix((1,nPts+nVol+1)), K])\n",
    "print(\"--- %s seconds for matrix addition ---\" % (time.time() - start_time))\n",
    "# fig = plt.figure()\n",
    "# plt.spy(K)"
   ]
  },
  {
   "cell_type": "markdown",
   "id": "a9459759",
   "metadata": {},
   "source": [
    "# Build the RHS vector"
   ]
  },
  {
   "cell_type": "code",
   "execution_count": 19,
   "id": "4aabc22d",
   "metadata": {},
   "outputs": [
    {
     "name": "stderr",
     "output_type": "stream",
     "text": [
      "/usr/lib/python3/dist-packages/scipy/sparse/_index.py:103: SparseEfficiencyWarning: Changing the sparsity structure of a csr_matrix is expensive. lil_matrix is more efficient.\n",
      "  self._set_intXint(row, col, x.flat[0])\n"
     ]
    }
   ],
   "source": [
    "b = np.zeros(K.shape[0])\n",
    "# I = np.ones(nPts+nVol)\n",
    "# I[:nPts] = 0\n",
    "# K = sp.diags([I],[0], shape=K.shape).dot(K) \n",
    "# for i in range(nPts):\n",
    "#     K[i,i] = 1\n",
    "#     b[i] = c0\n",
    "\n",
    "# \n",
    "b[0] = c0 # Inlet blood O2 concentration\n",
    "# \n",
    "I = np.ones(K.shape[0])\n",
    "I[0] = 0\n",
    "K = sp.diags([I],[0]).dot(K)\n",
    "K[0,0] = 1.0\n",
    "K[1,0] = -f/dx\n",
    "sp.save_npz('K.npz', K)\n",
    "np.savetxt('b.npz', b)"
   ]
  },
  {
   "cell_type": "markdown",
   "id": "dcd99b24",
   "metadata": {},
   "source": [
    "# Solve the system"
   ]
  },
  {
   "cell_type": "markdown",
   "id": "bf59dc64",
   "metadata": {},
   "source": [
    "### With scipy sparse"
   ]
  },
  {
   "cell_type": "code",
   "execution_count": 20,
   "id": "3c2cc3fe",
   "metadata": {},
   "outputs": [],
   "source": [
    "u = spl.spsolve(K, b)"
   ]
  },
  {
   "cell_type": "code",
   "execution_count": 21,
   "id": "b89c9dfd",
   "metadata": {},
   "outputs": [],
   "source": [
    "#u *= Rg*Tb\n",
    "ub, ut = u[:nPts+1], u[nPts+1:]"
   ]
  },
  {
   "cell_type": "markdown",
   "id": "55ce66ab",
   "metadata": {},
   "source": [
    "### Save the results"
   ]
  },
  {
   "cell_type": "code",
   "execution_count": 22,
   "id": "f81437b7",
   "metadata": {},
   "outputs": [],
   "source": [
    "cellStart = i0*nx+j0\n",
    "endDistance = 3*r\n",
    "cellEnd   = cellStart + int(endDistance/dy)*nx + nx-1 # +nx-1 to end on the right side of the domain\n",
    "np.savetxt(\"ct_voxel.txt\", ut[cellStart:cellEnd+1])\n",
    "np.savetxt(\"X_voxel.txt\", X[i0:i0+int(endDistance/dy)+1:])\n",
    "np.savetxt(\"Y_voxel.txt\", Y[i0:i0+int(endDistance/dy)+1, :])\n",
    "np.savetxt(\"cv_voxel.txt\", ub)"
   ]
  },
  {
   "cell_type": "markdown",
   "id": "a5b65839",
   "metadata": {},
   "source": [
    "## Plot"
   ]
  },
  {
   "cell_type": "code",
   "execution_count": 23,
   "id": "b54c8a58",
   "metadata": {},
   "outputs": [],
   "source": [
    "fig, ax = plt.subplots(1,2, figsize=(12,6))\n",
    "ax = ax.ravel()\n",
    "## Linear plot\n",
    "#c = ax.pcolormesh(ut.reshape(X.shape), cmap='RdBu')#, vmin=u.min(), vmax=u.max())\n",
    "c = ax[0].contourf(X,Y, Rg*Tb*ut.reshape(X.shape), cmap='RdBu', levels=50)\n",
    "#c = ax[0].contourf(X[i1:,:], Y[i1:,:], ut.reshape(X.shape)[i1:,:], cmap='RdBu', levels=50)#, vmin=0, vmax=2)\n",
    "## Log plot\n",
    "# c = ax.pcolormesh(ut.reshape(X.shape), cmap='RdBu', \n",
    "#                   norm=colors.LogNorm(vmin=u.min(), vmax=u.max()))\n",
    "fig.colorbar(c, ax=ax[0], extend='max')\n",
    "\n",
    "ax[1].plot(np.arange(-1,j1-j0)*dx, ub, label='Vascular nodes O2 concentration')\n",
    "\n",
    "ct = ut[labels!=1].reshape(-1, nx)\n",
    "cv = ub[1:]\n",
    "oxygenConsummed = D*(ut[i1*nx+1:i1*nx+1+nx]-ut[-nx:]).sum()*dx/H #k*simps([simps(ct_x, dx=dx) for ct_x in ct], dx=dy)/(Rg*Tb)\n",
    "oxygenExtracted = (c0-cv[-1])/c0*100 # U*A/w*simps(cv-ct[0,:], dx=dx*2*np.pi*r)/f /(Rg*Tb)\n",
    "totalTissueOxygen = ct.sum()*x.max()*y.max() /(Rg*Tb)\n",
    "\n",
    "plt.suptitle(f\"\"\"Oxygen consummed [mol/mm^3/ms]: {oxygenConsummed}\\\n",
    "    Oxygen extraction fraction [%]: {oxygenExtracted}\\n\n",
    "    Oxygen inflow [mol/ms]: {c0*f}\\\n",
    "    Oxygen extracted [mol/ms]: {oxygenExtracted*c0*f}\"\"\")\n",
    "\n",
    "plt.legend()\n",
    "plt.show()"
   ]
  },
  {
   "cell_type": "code",
   "execution_count": 24,
   "id": "55d45f5e",
   "metadata": {},
   "outputs": [
    {
     "name": "stdout",
     "output_type": "stream",
     "text": [
      "1.7420694748391774 39.99999347747904 3.6646379171758505e-71\n"
     ]
    }
   ],
   "source": [
    "print(ut.mean()*Rg*Tb, ut.max()*Rg*Tb, ut.min()*Rg*Tb)"
   ]
  },
  {
   "cell_type": "code",
   "execution_count": 25,
   "id": "09979860",
   "metadata": {},
   "outputs": [
    {
     "name": "stdout",
     "output_type": "stream",
     "text": [
      "Tissue: 7.81316725191354e-12 1.9002697546080784e-81 9.959647149177153e-10\n",
      "Blood:  2.0741267324602013e-09 2.074084286924618e-09 2.0741691785719655e-09\n"
     ]
    }
   ],
   "source": [
    "# fig, ax = plt.subplots()\n",
    "# c = ax.pcolormesh(K[:nPts, :].toarray(), cmap='RdBu')#, edgecolor='k')\n",
    "# plt.colorbar(c, ax=ax)\n",
    "# ax.set_aspect(nVol/nPts)\n",
    "print('Tissue:', ut[labels!=1].mean(), ut[labels!=1].min(), ut[labels!=1].max())\n",
    "print('Blood: ', ub.mean(), ub.min(), ub.max())"
   ]
  },
  {
   "cell_type": "code",
   "execution_count": 26,
   "id": "fbc6ff06",
   "metadata": {},
   "outputs": [],
   "source": [
    "# fig = plt.figure()\n",
    "# plt.plot(np.arange(j1-j0)*dx, ub, label='Vascular nodes O2 concentration')\n",
    "# plt.hlines(c0*Rg*Tb, 0, (j1-j0)*dx, colors='k', linestyles='--', label='Inlet concentration')\n",
    "# plt.legend()"
   ]
  },
  {
   "cell_type": "markdown",
   "id": "a861fe52",
   "metadata": {},
   "source": [
    "# Verify code using forged analytical solutions"
   ]
  },
  {
   "cell_type": "code",
   "execution_count": 27,
   "id": "36bd870e",
   "metadata": {},
   "outputs": [],
   "source": [
    "# def uv_exact(x):\n",
    "#     return c0*np.exp(-x*U*A/(w*f))\n",
    "\n",
    "# def ut_exact(x,y):\n",
    "#     return np.sin(np.pi*x/2/L) + np.sin(np.pi*y/2/H)\n",
    "\n",
    "# def gt(x,y):\n",
    "#     return ( -D*( (np.pi/2/L)**2 ) * np.sin(np.pi*x/2/L) - D*( (np.pi/2/H)**2 )*np.sin(np.pi*y/2/H) \n",
    "#             + (U*A/w)*( uv_exact(x) - ut_exact(x,y) ) - k*V* ut_exact(x,y) )  \n",
    "\n",
    "# def gv(x):\n",
    "#     return U*A*ut_exact(x,0)/w"
   ]
  },
  {
   "cell_type": "markdown",
   "id": "02c80d78",
   "metadata": {},
   "source": [
    "## Build the RHS vector"
   ]
  },
  {
   "cell_type": "code",
   "execution_count": 28,
   "id": "aea34e28",
   "metadata": {},
   "outputs": [],
   "source": [
    "# b = np.zeros(nPts+nVol)\n",
    "# b[0] = c0 # Inlet blood O2 concentration\n",
    "\n",
    "# xv = np.arange(j0+1,j1)*dx\n",
    "# b[1:nPts] = gv(xv)\n",
    "\n",
    "# for j in range(y.size):\n",
    "#     yj = j*dy\n",
    "#     for i in range(x.size):\n",
    "#         xi = i*dx\n",
    "#         if labels[j*nx+i] != 1:\n",
    "#             b[nPts+j*nx+i] = -gt(xi, yj)"
   ]
  },
  {
   "cell_type": "markdown",
   "id": "6eeaea5a",
   "metadata": {},
   "source": [
    "## Solve the system"
   ]
  },
  {
   "cell_type": "code",
   "execution_count": 29,
   "id": "239c083c",
   "metadata": {},
   "outputs": [],
   "source": [
    "# u = spl.spsolve(K, b)*Rg*Tb\n",
    "# ub, ut = u[:nPts], u[nPts:]"
   ]
  },
  {
   "cell_type": "markdown",
   "id": "0f70c8c6",
   "metadata": {},
   "source": [
    "## Plot"
   ]
  },
  {
   "cell_type": "code",
   "execution_count": 30,
   "id": "ab81064d",
   "metadata": {},
   "outputs": [],
   "source": [
    "# fig, ax = plt.subplots(1,2, figsize=(12,4))\n",
    "# ax = ax.ravel()\n",
    "# ## Linear plot\n",
    "# #c = ax.pcolormesh(ut.reshape(X.shape), cmap='RdBu')#, vmin=u.min(), vmax=u.max())\n",
    "# c = ax[0].contourf(X,Y, ut.reshape(X.shape)-ut_exact(X,Y), cmap='RdBu', levels=50)\n",
    "# ## Log plot\n",
    "# # c = ax.pcolormesh(ut.reshape(X.shape), cmap='RdBu', \n",
    "# #                   norm=colors.LogNorm(vmin=u.min(), vmax=u.max()))\n",
    "# fig.colorbar(c, ax=ax[0], extend='max')\n",
    "\n",
    "# ax[1].plot(np.arange(j1-j0)*dx, ub, label='Vascular nodes O2 concentration')\n",
    "# plt.legend()\n",
    "# plt.show()"
   ]
  },
  {
   "cell_type": "code",
   "execution_count": 31,
   "id": "1aa7e333",
   "metadata": {},
   "outputs": [],
   "source": [
    "# errt = (ut-ut_exact(X,Y).ravel())/c0\n",
    "# errt[labels==1] = 0\n",
    "# plt.contourf(X,Y, errt.reshape(X.shape), cmap='RdBu')\n",
    "# plt.colorbar()"
   ]
  },
  {
   "cell_type": "code",
   "execution_count": 32,
   "id": "72a6cc0d",
   "metadata": {},
   "outputs": [],
   "source": [
    "# fig, ax = plt.subplots(1,2, figsize=(12,4))\n",
    "# ax = ax.ravel()\n",
    "# ## Linear plot\n",
    "# #c = ax.pcolormesh(ut.reshape(X.shape), cmap='RdBu')#, vmin=u.min(), vmax=u.max())\n",
    "# c = ax[0].contourf(X,Y, ut_exact(X,Y), cmap='RdBu', levels=50)\n",
    "# ## Log plot\n",
    "# # c = ax.pcolormesh(ut.reshape(X.shape), cmap='RdBu', \n",
    "# #                   norm=colors.LogNorm(vmin=u.min(), vmax=u.max()))\n",
    "# fig.colorbar(c, ax=ax[0], extend='max')\n",
    "\n",
    "# ax[1].plot(np.arange(j1-j0)*dx, uv_exact(np.arange(j1-j0)*dx), label='Vascular nodes O2 concentration')\n",
    "# plt.legend()\n",
    "# plt.show()"
   ]
  }
 ],
 "metadata": {
  "kernelspec": {
   "display_name": "Python 3 (ipykernel)",
   "language": "python",
   "name": "python3"
  },
  "language_info": {
   "codemirror_mode": {
    "name": "ipython",
    "version": 3
   },
   "file_extension": ".py",
   "mimetype": "text/x-python",
   "name": "python",
   "nbconvert_exporter": "python",
   "pygments_lexer": "ipython3",
   "version": "3.10.6"
  },
  "vscode": {
   "interpreter": {
    "hash": "916dbcbb3f70747c44a77c7bcd40155683ae19c65e1c03b4aa3499c5328201f1"
   }
  }
 },
 "nbformat": 4,
 "nbformat_minor": 5
}
