{
 "cells": [
  {
   "cell_type": "code",
   "execution_count": 339,
   "id": "8dc78e61",
   "metadata": {},
   "outputs": [],
   "source": [
    "import matplotlib\n",
    "%matplotlib qt\n",
    "from matplotlib.patches import Circle\n",
    "import scipy.sparse as sp\n",
    "import scipy.sparse.linalg as spl\n",
    "import numpy as np\n",
    "import matplotlib.pylab as plt"
   ]
  },
  {
   "cell_type": "code",
   "execution_count": 340,
   "id": "b638e628",
   "metadata": {},
   "outputs": [],
   "source": [
    "dx = dy = 0.01\n",
    "dt = 0.1\n",
    "D = 100\n",
    "k = 1000\n",
    "x = np.arange(0,1,dx)\n",
    "y = np.arange(0,1,dy)\n",
    "X,Y = np.meshgrid(x,y)"
   ]
  },
  {
   "cell_type": "code",
   "execution_count": 341,
   "id": "0e9cfa11",
   "metadata": {},
   "outputs": [
    {
     "name": "stdout",
     "output_type": "stream",
     "text": [
      "nx=100 ny=100\n"
     ]
    }
   ],
   "source": [
    "nx = x.size\n",
    "ny = y.size\n",
    "coeffs = [dx/dy*D, dy/dx*D, 0, dy/dx*D, dx/dy*D]\n",
    "coeffs[2] = -sum(coeffs) - k*dx*dy\n",
    "offsets = [-nx, -1, 0, 1, nx]\n",
    "print(f\"{nx=} {ny=}\")"
   ]
  },
  {
   "attachments": {},
   "cell_type": "markdown",
   "id": "e258000c",
   "metadata": {},
   "source": [
    "# Build reaction diffusion matrix and test "
   ]
  },
  {
   "cell_type": "code",
   "execution_count": 342,
   "id": "5b33f4c0",
   "metadata": {},
   "outputs": [],
   "source": [
    "M = sp.diags(coeffs, [-nx, -1, 0, 1, nx], shape=(nx*ny, nx*ny), format='lil')\n",
    "for j in range(y.size):\n",
    "    for i in range(x.size):\n",
    "        row = j*nx + i\n",
    "        if i==0:\n",
    "            M[row,row] += coeffs[1]\n",
    "            if row-1 >= 0:\n",
    "                M[row, row-1] = 0.0\n",
    "        if i==nx-1:\n",
    "            M[row, row] += coeffs[3]\n",
    "            if row+1 < M.shape[1]:\n",
    "                M[row, row+1] = 0.0\n",
    "        if j==0:\n",
    "            M[row, row] += coeffs[0]\n",
    "        if j==ny-1:\n",
    "            M[row, row] += coeffs[4]\n"
   ]
  },
  {
   "cell_type": "code",
   "execution_count": 343,
   "id": "3430512c",
   "metadata": {},
   "outputs": [
    {
     "name": "stdout",
     "output_type": "stream",
     "text": [
      "u.mean()=0.065, u.min()=0.0, u.max()=1.0 u.sum()=650.0\n"
     ]
    }
   ],
   "source": [
    "# u = np.zeros(X.size)\n",
    "deleteRows = sp.eye(M.shape[0]).tolil()\n",
    "# for j, yj in enumerate(y):\n",
    "#     for i, xi in enumerate(x):\n",
    "#         if (xi-0.5)**2 + (yj-0.5)**2 < 0.2**2:\n",
    "#             row = i + j*nx\n",
    "#             deleteRows[row, row] = 0.0\n",
    "#             u[row]= 1.0\n",
    "u = np.zeros_like(X)\n",
    "i0, i1 = int(7*ny/16), int(9*ny/16)\n",
    "j0, j1 = int(4*nx/16), int(12*nx/16)\n",
    "u[i0:i1, j0:j1] = 1.0\n",
    "u = u.reshape((-1,))\n",
    "for i in np.nonzero(u):\n",
    "    deleteRows[i,i] = 0\n",
    "\n",
    "print(f\"{u.mean()=}, {u.min()=}, {u.max()=} {u.sum()=}\")\n",
    "fig, ax = plt.subplots()\n",
    "c = ax.pcolormesh(X,Y, u.reshape(X.shape), cmap='RdBu', vmin=u.min(), vmax=u.max())\n",
    "fig.colorbar(c, ax=ax)\n",
    "plt.show()"
   ]
  },
  {
   "cell_type": "code",
   "execution_count": 344,
   "id": "ac28a7de",
   "metadata": {},
   "outputs": [
    {
     "name": "stdout",
     "output_type": "stream",
     "text": [
      "u.mean()=0.10035180036523843, u.min()=9.384132943638537e-08, u.max()=1.0\n",
      "u.mean()=0.12156303252213109, u.min()=8.614394837433033e-07, u.max()=1.0\n",
      "u.mean()=0.13800288503791003, u.min()=4.197591506584205e-06, u.max()=1.0\n",
      "u.mean()=0.1519657828745761, u.min()=1.4464816939366313e-05, u.max()=1.0\n",
      "u.mean()=0.1643494059734823, u.min()=3.961986536508898e-05, u.max()=1.0\n",
      "u.mean()=0.17560817923773422, u.min()=9.191301155998336e-05, u.max()=1.0\n",
      "u.mean()=0.18600910681546665, u.min()=0.00018790565432600886, u.max()=1.0\n",
      "u.mean()=0.19572478529602008, u.min()=0.00034778291919670333, u.max()=1.0\n",
      "u.mean()=0.20487442180069357, u.min()=0.0005941323337019349, u.max()=1.0\n",
      "u.mean()=0.21354445038339526, u.min()=0.0009504550690336527, u.max()=1.0\n"
     ]
    }
   ],
   "source": [
    "M = deleteRows.dot(M)\n",
    "A = -dt*M + sp.eye(M.shape[0])\n",
    "A = A.tocsr()\n",
    "for k in range(10):\n",
    "    u = spl.spsolve(A, u)\n",
    "    print(f\"{u.mean()=}, {u.min()=}, {u.max()=}\")"
   ]
  },
  {
   "cell_type": "code",
   "execution_count": 345,
   "id": "11856706",
   "metadata": {},
   "outputs": [],
   "source": [
    "fig, ax = plt.subplots()\n",
    "c = ax.pcolormesh(X,Y, u.reshape(X.shape), cmap='RdBu', vmin=u.min(), vmax=u.max())\n",
    "fig.colorbar(c, ax=ax)\n",
    "# circ = Circle((0.5,0.5), 0.2, fill=False, linestyle='--', linewidth=3)\n",
    "# ax.add_patch(circ)\n",
    "plt.show()"
   ]
  },
  {
   "attachments": {},
   "cell_type": "markdown",
   "id": "98244760",
   "metadata": {},
   "source": [
    "# Build convection matrix"
   ]
  },
  {
   "cell_type": "code",
   "execution_count": 346,
   "id": "eaf65dcc",
   "metadata": {},
   "outputs": [],
   "source": [
    "# Corners of the vessel\n",
    "i0, i1 = int(7*ny/16), int(9*ny/16)\n",
    "j0, j1 = int(4*nx/16), int(12*nx/16)"
   ]
  },
  {
   "cell_type": "code",
   "execution_count": 347,
   "id": "734af594",
   "metadata": {},
   "outputs": [],
   "source": [
    "nPts = j1-j0\n",
    "nVol = nx*ny\n",
    "C = sp.diags([1/dx,-1/dx], [0,1], shape=(nPts, nPts+nVol), format='lil')\n",
    "C[nPts-1,nPts] = 0\n",
    "C = C.tocsr() \n",
    "# Add empty rows at the bottom of C to make it the right size\n",
    "indptr = C.indptr.tolist()\n",
    "for i in range(nVol):\n",
    "    indptr.append(indptr[-1])\n",
    "C = sp.csr_matrix((C.data, C.indices, indptr), shape=(nPts+nVol, nPts+nVol))"
   ]
  },
  {
   "attachments": {},
   "cell_type": "markdown",
   "id": "a609cf3d",
   "metadata": {},
   "source": [
    "## Build matrix equating vascular voxel concentrations to nodal concentration"
   ]
  },
  {
   "cell_type": "code",
   "execution_count": 365,
   "id": "dcdc79c2",
   "metadata": {},
   "outputs": [
    {
     "name": "stdout",
     "output_type": "stream",
     "text": [
      "False\n"
     ]
    }
   ],
   "source": [
    "C4 = sp.lil_matrix((nVol, nPts))\n",
    "I  = np.zeros(nVol)\n",
    "for node,j in enumerate(range(j0, j1)):\n",
    "    for i in range(i0, i1):\n",
    "        row = i*nx+j\n",
    "        C4[row,node] = 1\n",
    "        I[row] = 1\n",
    "I = sp.diags([I], [0]).tocsr()\n",
    "\n",
    "# Check the loss\n",
    "cv = np.ones(nPts) # Vascular nodal oxygen\n",
    "print(np.any(I.dot(u)-C4.dot(cv)!=0.0)) # Return False if each voxel's oxygen is equal to its corresponding node's oxygen "
   ]
  },
  {
   "attachments": {},
   "cell_type": "markdown",
   "id": "2987cfdd",
   "metadata": {},
   "source": [
    "## Build mass exchange between vessels and tissue"
   ]
  },
  {
   "cell_type": "code",
   "execution_count": 364,
   "id": "bd4942e3",
   "metadata": {},
   "outputs": [
    {
     "name": "stdout",
     "output_type": "stream",
     "text": [
      "1.0\n"
     ]
    }
   ],
   "source": [
    "NodesToEndothelialCells = sp.lil_matrix((nPts, nPts+nVol))\n",
    "for node, j in enumerate(j0, j1):\n",
    "    NodesToEndothelialCells[node, node] = -1\n",
    "    for i in [i0,i1]:\n",
    "        row = i*nx + j\n",
    "        NodesToEndothelialCells[]\n",
    "\n",
    "        "
   ]
  }
 ],
 "metadata": {
  "kernelspec": {
   "display_name": "base",
   "language": "python",
   "name": "python3"
  },
  "language_info": {
   "codemirror_mode": {
    "name": "ipython",
    "version": 3
   },
   "file_extension": ".py",
   "mimetype": "text/x-python",
   "name": "python",
   "nbconvert_exporter": "python",
   "pygments_lexer": "ipython3",
   "version": "3.8.13"
  },
  "vscode": {
   "interpreter": {
    "hash": "57bcab47fba392aaf2481e270a6c32db0c9d247c375febbd49c7b44fb61a4644"
   }
  }
 },
 "nbformat": 4,
 "nbformat_minor": 5
}
