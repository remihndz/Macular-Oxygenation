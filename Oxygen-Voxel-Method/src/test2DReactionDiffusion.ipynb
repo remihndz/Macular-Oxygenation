{
 "cells": [
  {
   "cell_type": "code",
   "execution_count": 608,
   "id": "8dc78e61",
   "metadata": {},
   "outputs": [],
   "source": [
    "import matplotlib\n",
    "%matplotlib qt5\n",
    "from matplotlib.patches import Circle\n",
    "import scipy.sparse as sp\n",
    "import scipy.sparse.linalg as spl\n",
    "import numpy as np\n",
    "import matplotlib.pylab as plt\n",
    "import matplotlib.colors as colors\n",
    "import time"
   ]
  },
  {
   "attachments": {},
   "cell_type": "markdown",
   "id": "47e28686",
   "metadata": {},
   "source": [
    "# Parameters"
   ]
  },
  {
   "attachments": {},
   "cell_type": "markdown",
   "id": "a5455050",
   "metadata": {},
   "source": [
    "## Model parameters"
   ]
  },
  {
   "cell_type": "code",
   "execution_count": 609,
   "id": "b638e628",
   "metadata": {},
   "outputs": [
    {
     "name": "stdout",
     "output_type": "stream",
     "text": [
      "2.0741691785719655e-09\n"
     ]
    }
   ],
   "source": [
    "D = 1800.00 * 1e-6\n",
    "k = 4.5\n",
    "Rg = 62.36*1e6 # Ideal gas constant, in mm3.mmHg.K-1.mol-1 \n",
    "Tb = 309.25    # Blood temperature, 36.1*C in Kelvin\n",
    "c0 = 40/(Rg*Tb) # Arterial oxygen concentration, in mol.mm-3\n",
    "w = 1.00*1e-3\n",
    "U = 2400.00 *1e-6\n",
    "f = 1e-10 # Blood flow \n",
    "print(c0)"
   ]
  },
  {
   "attachments": {},
   "cell_type": "markdown",
   "id": "79247a5b",
   "metadata": {},
   "source": [
    "## Geometric parameters"
   ]
  },
  {
   "cell_type": "code",
   "execution_count": 610,
   "id": "eaf65dcc",
   "metadata": {},
   "outputs": [
    {
     "name": "stdout",
     "output_type": "stream",
     "text": [
      "i0=449 i1=549 j0=0 j1=200\n"
     ]
    }
   ],
   "source": [
    "r = 0.005 # Radius\n",
    "dx = dy = 0.00005\n",
    "dt = 0.1\n",
    "x = np.arange(0,1e-2,dx)\n",
    "y = np.arange(0,10*r,dy)\n",
    "X,Y = np.meshgrid(x,y)\n",
    "nx = x.size\n",
    "ny = y.size\n",
    "# Corners of the vessel\n",
    "\n",
    "i0, i1 = int((y.max()/2-r/2)/dx), int((y.max()/2+r/2)/dx) # int(7*ny/16), int(9*ny/16)\n",
    "j0, j1 = 0*int(4*nx/16), nx#int(12*nx/16)\n",
    "# i0, i1 = int(7*ny/16), int(9*ny/16)\n",
    "# j0, j1 = int(4*nx/16), int(12*nx/16)\n",
    "print(f\"{i0=} {i1=} {j0=} {j1=}\")"
   ]
  },
  {
   "cell_type": "code",
   "execution_count": 611,
   "id": "0e9cfa11",
   "metadata": {},
   "outputs": [
    {
     "name": "stdout",
     "output_type": "stream",
     "text": [
      "nx=200 ny=1000\n"
     ]
    }
   ],
   "source": [
    "coeffs = [dx/dy*D, dy/dx*D, 0, dy/dx*D, dx/dy*D]\n",
    "coeffs[2] = -sum(coeffs)# - k*dx*dy\n",
    "offsets = [-nx, -1, 0, 1, nx]\n",
    "print(f\"{nx=} {ny=}\")"
   ]
  },
  {
   "attachments": {},
   "cell_type": "markdown",
   "id": "e258000c",
   "metadata": {},
   "source": [
    "# Testing reaction diffusion sub-system"
   ]
  },
  {
   "cell_type": "code",
   "execution_count": 612,
   "id": "5b33f4c0",
   "metadata": {},
   "outputs": [],
   "source": [
    "# M = sp.diags(coeffs, [-nx, -1, 0, 1, nx], shape=(nx*ny, nx*ny), format='lil')\n",
    "# for j in range(y.size):\n",
    "#     for i in range(x.size):\n",
    "#         cell = j*nx + i\n",
    "#         if i==0:\n",
    "#             M[cell,cell] += coeffs[1]\n",
    "#             if cell-1 >= 0:\n",
    "#                 M[cell, cell-1] = 0.0\n",
    "#         if i==nx-1:\n",
    "#             M[cell, cell] += coeffs[3]\n",
    "#             if cell+1 < M.shape[1]:\n",
    "#                 M[cell, cell+1] = 0.0\n",
    "#         if j==0:\n",
    "#             M[cell, cell] += coeffs[0]\n",
    "#         if j==ny-1:\n",
    "#             M[cell, cell] += coeffs[4]\n"
   ]
  },
  {
   "cell_type": "code",
   "execution_count": 613,
   "id": "3430512c",
   "metadata": {},
   "outputs": [],
   "source": [
    "# u = np.zeros(X.size)\n",
    "# deletecells = sp.eye(M.shape[0]).tolil()\n",
    "# for j, yj in enumerate(y):\n",
    "#     for i, xi in enumerate(x):\n",
    "#         if (xi-0.5)**2 + (yj-0.5)**2 < 0.2**2:\n",
    "#             cell = i + j*nx\n",
    "#             deletecells[cell, cell] = 0.0\n",
    "#             u[cell]= 1.0\n",
    "u = np.zeros_like(X)\n",
    "u[i0:i1, j0:j1] = 1.0\n",
    "u = u.reshape((-1,))\n",
    "# for i in np.nonzero(u):\n",
    "#     deletecells[i,i] = 0\n",
    "\n",
    "# print(f\"{u.mean()=}, {u.min()=}, {u.max()=} {u.sum()=}\")\n",
    "# fig, ax = plt.subplots()\n",
    "# c = ax.pcolormesh(X,Y, u.reshape(X.shape), cmap='RdBu', vmin=u.min(), vmax=u.max())\n",
    "# fig.colorbar(c, ax=ax)\n",
    "# plt.show()"
   ]
  },
  {
   "cell_type": "code",
   "execution_count": 614,
   "id": "ac28a7de",
   "metadata": {},
   "outputs": [],
   "source": [
    "# M = deletecells.dot(M)\n",
    "# A = -dt*M + sp.eye(M.shape[0])\n",
    "# A = A.tocsr()\n",
    "# for k in range(10):\n",
    "#     u = spl.spsolve(A, u)\n",
    "#     print(f\"{u.mean()=}, {u.min()=}, {u.max()=}\")"
   ]
  },
  {
   "cell_type": "code",
   "execution_count": 615,
   "id": "11856706",
   "metadata": {},
   "outputs": [],
   "source": [
    "# fig, ax = plt.subplots()\n",
    "# c = ax.pcolormesh(X,Y, u.reshape(X.shape), cmap='RdBu', vmin=u.min(), vmax=u.max())\n",
    "# fig.colorbar(c, ax=ax)\n",
    "# circ = Circle((0.5,0.5), 0.2, fill=False, linestyle='--', linewidth=3)\n",
    "# ax.add_patch(circ)\n",
    "# plt.show()"
   ]
  },
  {
   "cell_type": "markdown",
   "id": "98244760",
   "metadata": {},
   "source": [
    "# Build convection matrix"
   ]
  },
  {
   "cell_type": "code",
   "execution_count": 616,
   "id": "734af594",
   "metadata": {},
   "outputs": [],
   "source": [
    "nPts = j1-j0\n",
    "nVol = nx*ny\n",
    "C = sp.diags([f/dx,-f/dx], [0,1], shape=(nPts, nPts+nVol), format='lil')\n",
    "C[nPts-1,nPts] = 0\n",
    "C[0,1] = 0 # Will be a fixed inlet concentration\n",
    "C = C.tocsr() \n",
    "# Add empty rows at the bottom of C to make it the right size\n",
    "indptr = C.indptr.tolist()\n",
    "for i in range(nVol):\n",
    "    indptr.append(indptr[-1])\n",
    "C = sp.csr_matrix((C.data, C.indices, indptr), shape=(nPts+nVol, nPts+nVol))"
   ]
  },
  {
   "cell_type": "markdown",
   "id": "e74bb6e7",
   "metadata": {},
   "source": [
    "# Connectivity matrices"
   ]
  },
  {
   "attachments": {},
   "cell_type": "markdown",
   "id": "a609cf3d",
   "metadata": {},
   "source": [
    "## Build matrix equating vascular voxel concentrations to nodal concentration"
   ]
  },
  {
   "cell_type": "code",
   "execution_count": 617,
   "id": "bd4942e3",
   "metadata": {},
   "outputs": [],
   "source": [
    "NodesToEndothelialCells = sp.lil_matrix((nPts, nPts+nVol))\n",
    "for node, j in enumerate(range(j0, j1)):\n",
    "    for i in [i0-1,i1]:\n",
    "        cell = i*nx + j\n",
    "        NodesToEndothelialCells[node, node] += -1\n",
    "        NodesToEndothelialCells[node, nPts+cell] = 1\n",
    "for i in range(i0, i1):\n",
    "    for node, j in zip([0, nPts-1],[j0-1,j1]):\n",
    "        if j<0 or j>nx-1:\n",
    "            continue\n",
    "        cell = i*nx + j\n",
    "        NodesToEndothelialCells[node, nPts+cell] = 1\n",
    "        NodesToEndothelialCells[node, node] += -1        "
   ]
  },
  {
   "attachments": {},
   "cell_type": "markdown",
   "id": "c17c5a9e",
   "metadata": {},
   "source": [
    "## Labels"
   ]
  },
  {
   "cell_type": "code",
   "execution_count": 618,
   "id": "266fb85f",
   "metadata": {},
   "outputs": [
    {
     "data": {
      "text/plain": [
       "<matplotlib.colorbar.Colorbar at 0x7fa43df08be0>"
      ]
     },
     "execution_count": 618,
     "metadata": {},
     "output_type": "execute_result"
    }
   ],
   "source": [
    "Arr = NodesToEndothelialCells.toarray()\n",
    "labels = np.zeros(nVol)\n",
    "for j in range(j0, j1):\n",
    "    for i in range(i0, i1):\n",
    "        labels[i*nx+j] = 1\n",
    "\n",
    "for node in range(nPts):\n",
    "    labels[np.nonzero(Arr[node, nPts:])] = 2 \n",
    "\n",
    "fig, ax = plt.subplots()\n",
    "c = ax.pcolormesh(labels.reshape(X.shape), cmap='RdBu')#, edgecolor='k')\n",
    "plt.colorbar(c, ax=ax, label='0 for tissue, 1 for vessel, 2 for endothelial cells')"
   ]
  },
  {
   "attachments": {},
   "cell_type": "markdown",
   "id": "06893ed0",
   "metadata": {},
   "source": [
    "## Matrix linking vascular voxels with vascular node"
   ]
  },
  {
   "cell_type": "code",
   "execution_count": 619,
   "id": "dcdc79c2",
   "metadata": {},
   "outputs": [
    {
     "name": "stdout",
     "output_type": "stream",
     "text": [
      "False\n"
     ]
    }
   ],
   "source": [
    "C4 = sp.lil_matrix((nVol, nPts))\n",
    "I4 = np.zeros(nVol)\n",
    "uVascularNodeToVoxel = np.zeros(nVol)\n",
    "for node,j in enumerate(range(j0, j1)):\n",
    "    for i in range(i0, i1):\n",
    "        cell = i*nx+j\n",
    "        C4[cell,node] = 1\n",
    "        I4[cell] = 1\n",
    "        uVascularNodeToVoxel[cell] = node+1\n",
    "I4 = sp.diags([I4], [0]).tocsr()\n",
    "\n",
    "# Check the loss\n",
    "cv = np.ones(nPts) # Vascular nodal oxygen\n",
    "print(np.any(I4.dot(u)-C4.dot(cv)!=0.0)) # Return False if each voxel's oxygen is equal to its corresponding node's oxygen \n",
    "\n",
    "# fig, ax = plt.subplots()\n",
    "# c = ax.pcolormesh(uVascularNodeToVoxel.reshape(X.shape), cmap='RdBu', edgecolor='k')\n",
    "# plt.colorbar(c, ax=ax, label='Linked to node')"
   ]
  },
  {
   "attachments": {},
   "cell_type": "markdown",
   "id": "2987cfdd",
   "metadata": {},
   "source": [
    "# Build mass exchange between vessels and tissue"
   ]
  },
  {
   "cell_type": "code",
   "execution_count": 620,
   "id": "daa743a1",
   "metadata": {},
   "outputs": [],
   "source": [
    "V = x.max()*y.max() #dx*dy\n",
    "Gamma = sp.diags([np.ones(nPts)*U*(j1-j0)*dy*np.pi*V/w], [0], shape=(nPts, nPts))\n",
    "MassExchange = -NodesToEndothelialCells.T.dot(Gamma).dot(NodesToEndothelialCells)\n",
    "\n",
    "# fig, ax = plt.subplots()\n",
    "# c = ax.pcolormesh(abs(MassExchange.toarray()), cmap='RdBu')\n",
    "# fig.colorbar(c, ax=ax)\n",
    "# plt.show()"
   ]
  },
  {
   "attachments": {},
   "cell_type": "markdown",
   "id": "a3218c0c",
   "metadata": {},
   "source": [
    "### Check if endothelial cells are connected to the right vascular nodes"
   ]
  },
  {
   "cell_type": "code",
   "execution_count": 621,
   "id": "eb4b84d7",
   "metadata": {},
   "outputs": [],
   "source": [
    "Arr = NodesToEndothelialCells.toarray()\n",
    "uCheckConnectionEndoToNode = uVascularNodeToVoxel\n",
    "for node in range(nPts):\n",
    "    uCheckConnectionEndoToNode[np.nonzero(Arr[node, nPts:])] = node+1\n",
    "\n",
    "# fig, ax = plt.subplots()\n",
    "# c = ax.pcolormesh(uCheckConnectionEndoToNode.reshape(X.shape), cmap='RdBu', edgecolor='k')\n",
    "# plt.colorbar(c, ax=ax)\n",
    "# plt.show()"
   ]
  },
  {
   "attachments": {},
   "cell_type": "markdown",
   "id": "1a7573d1",
   "metadata": {},
   "source": [
    "# Reaction-Diffusion matrices"
   ]
  },
  {
   "attachments": {},
   "cell_type": "markdown",
   "id": "f5a00af5",
   "metadata": {},
   "source": [
    "## Diffusion part (including BC)"
   ]
  },
  {
   "cell_type": "code",
   "execution_count": 622,
   "id": "5b33f4c0",
   "metadata": {},
   "outputs": [
    {
     "name": "stdout",
     "output_type": "stream",
     "text": [
      "nx=200 ny=1000\n"
     ]
    }
   ],
   "source": [
    "coeffs = [dx/dy*D, dy/dx*D, 0, dy/dx*D, dx/dy*D]\n",
    "coeffs[2] = -sum(coeffs)# - k*dx*dy\n",
    "offsets = [-nx, -1, 0, 1, nx]\n",
    "print(f\"{nx=} {ny=}\")\n",
    "M = sp.diags(coeffs, [-nx, -1, 0, 1, nx], shape=(nx*ny, nx*ny), format='lil')\n",
    "\n",
    "# Tissue external boundary conditions\n",
    "for j in range(y.size):\n",
    "    for i in range(x.size):\n",
    "        cell = j*nx + i\n",
    "        if i==0:\n",
    "            M[cell,cell] += coeffs[1]\n",
    "            if cell-1 >= 0:\n",
    "                M[cell, cell-1] = 0.0\n",
    "        if i==nx-1:\n",
    "            M[cell, cell] += coeffs[3]\n",
    "            if cell+1 < M.shape[1]:\n",
    "                M[cell, cell+1] = 0.0\n",
    "        if j==0:\n",
    "            M[cell, cell] += coeffs[0]\n",
    "        if j==ny-1:\n",
    "            M[cell, cell] += coeffs[4]"
   ]
  },
  {
   "attachments": {},
   "cell_type": "markdown",
   "id": "dce2fec5",
   "metadata": {},
   "source": [
    "## Make the consumption rate matrix and diffusion matrix (cells with no consumption/no diffusion need to be excluded)"
   ]
  },
  {
   "cell_type": "code",
   "execution_count": 623,
   "id": "956d71de",
   "metadata": {},
   "outputs": [],
   "source": [
    "deleteVascularCells = np.ones(nVol)\n",
    "offsets.pop(2)\n",
    "coeffs.pop(2)\n",
    "R = np.ones(nVol)*k*dx*dy\n",
    "for i,label in enumerate(labels):\n",
    "    if label==1:\n",
    "        deleteVascularCells[i] = 0\n",
    "    if label==2:\n",
    "        #R[i] /= k # Je me souviens pas pourquoi j'ai mis ca \n",
    "        R[i] = 0\n",
    "        # Tissue internal (endothelial to vascular voxels) boundary conditions.\n",
    "        # Get rid of diffusion from vascular voxels to endothelial voxels\n",
    "        for offset, coeff in zip(offsets, coeffs):\n",
    "            if i+offset>=0:\n",
    "                try:\n",
    "                    if label[i+offset] == 1:\n",
    "                        M[i, i+offset] = 0.0\n",
    "                        M[i, i] -= coeff\n",
    "                except:\n",
    "                    pass\n",
    "\n",
    "deleteVascularCells = sp.diags([deleteVascularCells], [0])\n",
    "\n",
    "R = sp.diags([R], [0])\n",
    "R = deleteVascularCells.dot(R)\n",
    "M = deleteVascularCells.dot(M)"
   ]
  },
  {
   "cell_type": "code",
   "execution_count": 624,
   "id": "2eb135b2",
   "metadata": {},
   "outputs": [
    {
     "name": "stdout",
     "output_type": "stream",
     "text": [
      "200 200000\n",
      "MassExchange.shape=(200200, 200200) C.shape=(200200, 200200) M.shape=(200000, 200000) R.shape=(200000, 200000) C4.shape=(200000, 200) I4.shape=(200000, 200000)\n",
      "1800 20400\n"
     ]
    }
   ],
   "source": [
    "print(nPts, nVol)\n",
    "print(f\"{MassExchange.shape=} {C.shape=} {M.shape=} {R.shape=} {C4.shape=} {I4.shape=}\")\n",
    "print(MassExchange.nnz, labels[labels>0].size)"
   ]
  },
  {
   "attachments": {},
   "cell_type": "markdown",
   "id": "7b763d0b",
   "metadata": {},
   "source": [
    "# Combine and reshape sub-matrices before combining them"
   ]
  },
  {
   "cell_type": "code",
   "execution_count": 625,
   "id": "972e5e01",
   "metadata": {},
   "outputs": [
    {
     "name": "stdout",
     "output_type": "stream",
     "text": [
      "MassExchange.shape=(200200, 200200) C.shape=(200200, 200200) Md.shape=(200200, 200200) M4.shape=(200200, 200200)\n",
      "--- 0.006917715072631836 seconds for matrix addition ---\n"
     ]
    }
   ],
   "source": [
    "# Equations associating vascular cells and nodes\n",
    "M4 = sp.vstack([sp.csr_matrix((nPts, nPts+nVol)), sp.hstack([-C4, I4])])\n",
    "# Reaction diffusion equations\n",
    "Md = sp.vstack([sp.csr_matrix((nPts, nPts+nVol)), sp.hstack([sp.csr_matrix((nVol, nPts)), M-R])])\n",
    "print(f\"{MassExchange.shape=} {C.shape=} {Md.shape=} {M4.shape=}\")\n",
    "\n",
    "start_time = time.time()\n",
    "K = C.tocsr() - MassExchange.tocsr() + Md.tocsr() + M4.tocsr()\n",
    "print(\"--- %s seconds for matrix addition ---\" % (time.time() - start_time))\n",
    "# fig = plt.figure()\n",
    "# plt.spy(K)"
   ]
  },
  {
   "attachments": {},
   "cell_type": "markdown",
   "id": "a9459759",
   "metadata": {},
   "source": [
    "# Build the RHS vector"
   ]
  },
  {
   "cell_type": "code",
   "execution_count": 626,
   "id": "4aabc22d",
   "metadata": {},
   "outputs": [
    {
     "name": "stderr",
     "output_type": "stream",
     "text": [
      "/usr/lib/python3/dist-packages/scipy/sparse/_index.py:103: SparseEfficiencyWarning: Changing the sparsity structure of a csr_matrix is expensive. lil_matrix is more efficient.\n",
      "  self._set_intXint(row, col, x.flat[0])\n"
     ]
    }
   ],
   "source": [
    "b = np.zeros(nPts+nVol)\n",
    "# I = np.ones(nPts+nVol)\n",
    "# I[:nPts] = 0\n",
    "# K = sp.diags([I],[0], shape=K.shape).dot(K) \n",
    "# for i in range(nPts):\n",
    "#     K[i,i] = 1\n",
    "#     b[i] = c0\n",
    "\n",
    "# \n",
    "b[0] = c0 # Inlet blood O2 concentration\n",
    "# \n",
    "I = np.ones(nPts+nVol)\n",
    "I[0] = 0\n",
    "K = sp.diags([I],[0]).dot(K)\n",
    "K[0,0] = 1.0"
   ]
  },
  {
   "attachments": {},
   "cell_type": "markdown",
   "id": "dcd99b24",
   "metadata": {},
   "source": [
    "# Solve the system"
   ]
  },
  {
   "cell_type": "code",
   "execution_count": 627,
   "id": "3c2cc3fe",
   "metadata": {},
   "outputs": [],
   "source": [
    "u = spl.spsolve(K, b)*Rg*Tb\n",
    "ub, ut = u[:nPts], u[nPts:]"
   ]
  },
  {
   "cell_type": "code",
   "execution_count": 628,
   "id": "b54c8a58",
   "metadata": {},
   "outputs": [],
   "source": [
    "fig, ax = plt.subplots()\n",
    "## Linear plot\n",
    "#c = ax.pcolormesh(ut.reshape(X.shape), cmap='RdBu')#, vmin=u.min(), vmax=u.max())\n",
    "c = ax.contourf(X,Y, ut.reshape(X.shape), cmap='RdBu', levels=50)\n",
    "## Log plot\n",
    "# c = ax.pcolormesh(ut.reshape(X.shape), cmap='RdBu', \n",
    "#                   norm=colors.LogNorm(vmin=u.min(), vmax=u.max()))\n",
    "fig.colorbar(c, ax=ax, extend='max')\n",
    "plt.show()"
   ]
  },
  {
   "cell_type": "code",
   "execution_count": 629,
   "id": "09979860",
   "metadata": {},
   "outputs": [
    {
     "name": "stdout",
     "output_type": "stream",
     "text": [
      "Tissue: 0.14970775860929966 9.588868610047946e-07 39.99999999999999\n",
      "Blood:  0.20048392324242598 9.588868610047946e-07 39.99999999999999\n"
     ]
    }
   ],
   "source": [
    "# fig, ax = plt.subplots()\n",
    "# c = ax.pcolormesh(K[:nPts, :].toarray(), cmap='RdBu')#, edgecolor='k')\n",
    "# plt.colorbar(c, ax=ax)\n",
    "# ax.set_aspect(nVol/nPts)\n",
    "print('Tissue:', ut.mean(), ut.min(), ut.max())\n",
    "print('Blood: ', ub.mean(), ub.min(), ub.max())"
   ]
  },
  {
   "cell_type": "code",
   "execution_count": 630,
   "id": "fbc6ff06",
   "metadata": {},
   "outputs": [
    {
     "data": {
      "text/plain": [
       "<matplotlib.legend.Legend at 0x7fa43be66e00>"
      ]
     },
     "execution_count": 630,
     "metadata": {},
     "output_type": "execute_result"
    }
   ],
   "source": [
    "fig = plt.figure()\n",
    "plt.plot(np.arange(j1-j0)*dx, ub, label='Vascular nodes O2 concentration')\n",
    "plt.hlines(c0*Rg*Tb, 0, (j1-j0)*dx, colors='k', linestyles='--', label='Inlet concentration')\n",
    "plt.legend()"
   ]
  }
 ],
 "metadata": {
  "kernelspec": {
   "display_name": "Python 3 (ipykernel)",
   "language": "python",
   "name": "python3"
  },
  "language_info": {
   "codemirror_mode": {
    "name": "ipython",
    "version": 3
   },
   "file_extension": ".py",
   "mimetype": "text/x-python",
   "name": "python",
   "nbconvert_exporter": "python",
   "pygments_lexer": "ipython3",
   "version": "3.10.6"
  },
  "vscode": {
   "interpreter": {
    "hash": "916dbcbb3f70747c44a77c7bcd40155683ae19c65e1c03b4aa3499c5328201f1"
   }
  }
 },
 "nbformat": 4,
 "nbformat_minor": 5
}
