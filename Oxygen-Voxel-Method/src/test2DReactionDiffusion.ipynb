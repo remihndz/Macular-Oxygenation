{
 "cells": [
  {
   "cell_type": "code",
   "execution_count": 29,
   "id": "8dc78e61",
   "metadata": {},
   "outputs": [],
   "source": [
    "import matplotlib\n",
    "%matplotlib qt\n",
    "from matplotlib.patches import Circle\n",
    "import scipy.sparse as sp\n",
    "import scipy.sparse.linalg as spl\n",
    "import numpy as np\n",
    "import matplotlib.pylab as plt"
   ]
  },
  {
   "cell_type": "code",
   "execution_count": 30,
   "id": "b638e628",
   "metadata": {},
   "outputs": [],
   "source": [
    "dx = dy = 0.05\n",
    "dt = 0.1\n",
    "D = 100\n",
    "k = 1000\n",
    "x = np.arange(0,1,dx)\n",
    "y = np.arange(0,1,dy)\n",
    "X,Y = np.meshgrid(x,y)"
   ]
  },
  {
   "cell_type": "code",
   "execution_count": 31,
   "id": "0e9cfa11",
   "metadata": {},
   "outputs": [
    {
     "name": "stdout",
     "output_type": "stream",
     "text": [
      "nx=20 ny=20\n"
     ]
    }
   ],
   "source": [
    "nx = x.size\n",
    "ny = y.size\n",
    "coeffs = [dx/dy*D, dy/dx*D, 0, dy/dx*D, dx/dy*D]\n",
    "coeffs[2] = -sum(coeffs) - k*dx*dy\n",
    "offsets = [-nx, -1, 0, 1, nx]\n",
    "print(f\"{nx=} {ny=}\")"
   ]
  },
  {
   "attachments": {},
   "cell_type": "markdown",
   "id": "e258000c",
   "metadata": {},
   "source": [
    "# Build reaction diffusion matrix and test "
   ]
  },
  {
   "cell_type": "code",
   "execution_count": 32,
   "id": "5b33f4c0",
   "metadata": {},
   "outputs": [],
   "source": [
    "M = sp.diags(coeffs, [-nx, -1, 0, 1, nx], shape=(nx*ny, nx*ny), format='lil')\n",
    "for j in range(y.size):\n",
    "    for i in range(x.size):\n",
    "        cell = j*nx + i\n",
    "        if i==0:\n",
    "            M[cell,cell] += coeffs[1]\n",
    "            if cell-1 >= 0:\n",
    "                M[cell, cell-1] = 0.0\n",
    "        if i==nx-1:\n",
    "            M[cell, cell] += coeffs[3]\n",
    "            if cell+1 < M.shape[1]:\n",
    "                M[cell, cell+1] = 0.0\n",
    "        if j==0:\n",
    "            M[cell, cell] += coeffs[0]\n",
    "        if j==ny-1:\n",
    "            M[cell, cell] += coeffs[4]\n"
   ]
  },
  {
   "cell_type": "code",
   "execution_count": 33,
   "id": "3430512c",
   "metadata": {},
   "outputs": [
    {
     "name": "stdout",
     "output_type": "stream",
     "text": [
      "u.mean()=0.075, u.min()=0.0, u.max()=1.0 u.sum()=30.0\n"
     ]
    }
   ],
   "source": [
    "# u = np.zeros(X.size)\n",
    "deletecells = sp.eye(M.shape[0]).tolil()\n",
    "# for j, yj in enumerate(y):\n",
    "#     for i, xi in enumerate(x):\n",
    "#         if (xi-0.5)**2 + (yj-0.5)**2 < 0.2**2:\n",
    "#             cell = i + j*nx\n",
    "#             deletecells[cell, cell] = 0.0\n",
    "#             u[cell]= 1.0\n",
    "u = np.zeros_like(X)\n",
    "i0, i1 = int(7*ny/16), int(9*ny/16)\n",
    "j0, j1 = int(4*nx/16), int(12*nx/16)\n",
    "u[i0:i1, j0:j1] = 1.0\n",
    "u = u.reshape((-1,))\n",
    "for i in np.nonzero(u):\n",
    "    deletecells[i,i] = 0\n",
    "\n",
    "print(f\"{u.mean()=}, {u.min()=}, {u.max()=} {u.sum()=}\")\n",
    "fig, ax = plt.subplots()\n",
    "c = ax.pcolormesh(X,Y, u.reshape(X.shape), cmap='RdBu', vmin=u.min(), vmax=u.max())\n",
    "fig.colorbar(c, ax=ax)\n",
    "plt.show()"
   ]
  },
  {
   "cell_type": "code",
   "execution_count": 34,
   "id": "ac28a7de",
   "metadata": {},
   "outputs": [
    {
     "name": "stdout",
     "output_type": "stream",
     "text": [
      "u.mean()=0.25494107979240516, u.min()=0.03554825417750027, u.max()=1.0\n",
      "u.mean()=0.34977574471378786, u.min()=0.09238556821299153, u.max()=1.0\n",
      "u.mean()=0.40961485955101734, u.min()=0.14957976964327455, u.max()=1.0\n",
      "u.mean()=0.44934650488314987, u.min()=0.19718357804709719, u.max()=1.0\n",
      "u.mean()=0.47620459024986217, u.min()=0.23339298138363077, u.max()=1.0\n",
      "u.mean()=0.49449507388110964, u.min()=0.2597273102081619, u.max()=1.0\n",
      "u.mean()=0.5069932348109165, u.min()=0.27844767185225017, u.max()=1.0\n",
      "u.mean()=0.5155478068734787, u.min()=0.2915995826793335, u.max()=1.0\n",
      "u.mean()=0.5214084417882587, u.min()=0.30078224755616223, u.max()=1.0\n",
      "u.mean()=0.5254256458398701, u.min()=0.30717199525334304, u.max()=1.0\n"
     ]
    }
   ],
   "source": [
    "M = deletecells.dot(M)\n",
    "A = -dt*M + sp.eye(M.shape[0])\n",
    "A = A.tocsr()\n",
    "for k in range(10):\n",
    "    u = spl.spsolve(A, u)\n",
    "    print(f\"{u.mean()=}, {u.min()=}, {u.max()=}\")"
   ]
  },
  {
   "cell_type": "code",
   "execution_count": 35,
   "id": "11856706",
   "metadata": {},
   "outputs": [],
   "source": [
    "fig, ax = plt.subplots()\n",
    "c = ax.pcolormesh(X,Y, u.reshape(X.shape), cmap='RdBu', vmin=u.min(), vmax=u.max())\n",
    "fig.colorbar(c, ax=ax)\n",
    "# circ = Circle((0.5,0.5), 0.2, fill=False, linestyle='--', linewidth=3)\n",
    "# ax.add_patch(circ)\n",
    "plt.show()"
   ]
  },
  {
   "attachments": {},
   "cell_type": "markdown",
   "id": "98244760",
   "metadata": {},
   "source": [
    "# Build convection matrix"
   ]
  },
  {
   "cell_type": "code",
   "execution_count": 36,
   "id": "eaf65dcc",
   "metadata": {},
   "outputs": [],
   "source": [
    "# Corners of the vessel\n",
    "i0, i1 = int(7*ny/16), int(9*ny/16)\n",
    "j0, j1 = int(4*nx/16), int(12*nx/16)"
   ]
  },
  {
   "cell_type": "code",
   "execution_count": 37,
   "id": "734af594",
   "metadata": {},
   "outputs": [],
   "source": [
    "nPts = j1-j0\n",
    "nVol = nx*ny\n",
    "C = sp.diags([1/dx,-1/dx], [0,1], shape=(nPts, nPts+nVol), format='lil')\n",
    "C[nPts-1,nPts] = 0\n",
    "C = C.tocsr() \n",
    "# Add empty rows at the bottom of C to make it the right size\n",
    "indptr = C.indptr.tolist()\n",
    "for i in range(nVol):\n",
    "    indptr.append(indptr[-1])\n",
    "C = sp.csr_matrix((C.data, C.indices, indptr), shape=(nPts+nVol, nPts+nVol))"
   ]
  },
  {
   "attachments": {},
   "cell_type": "markdown",
   "id": "a609cf3d",
   "metadata": {},
   "source": [
    "## Build matrix equating vascular voxel concentrations to nodal concentration"
   ]
  },
  {
   "cell_type": "code",
   "execution_count": 38,
   "id": "dcdc79c2",
   "metadata": {},
   "outputs": [
    {
     "name": "stdout",
     "output_type": "stream",
     "text": [
      "False\n"
     ]
    }
   ],
   "source": [
    "C4 = sp.lil_matrix((nVol, nPts))\n",
    "I  = np.zeros(nVol)\n",
    "for node,j in enumerate(range(j0, j1)):\n",
    "    for i in range(i0, i1):\n",
    "        cell = i*nx+j\n",
    "        C4[cell,node] = 1\n",
    "        I[cell] = 1\n",
    "I = sp.diags([I], [0]).tocsr()\n",
    "\n",
    "# Check the loss\n",
    "cv = np.ones(nPts) # Vascular nodal oxygen\n",
    "print(np.any(I.dot(u)-C4.dot(cv)!=0.0)) # Return False if each voxel's oxygen is equal to its corresponding node's oxygen "
   ]
  },
  {
   "attachments": {},
   "cell_type": "markdown",
   "id": "2987cfdd",
   "metadata": {},
   "source": [
    "## Build mass exchange between vessels and tissue"
   ]
  },
  {
   "cell_type": "code",
   "execution_count": 39,
   "id": "bd4942e3",
   "metadata": {},
   "outputs": [],
   "source": [
    "NodesToEndothelialCells = sp.lil_matrix((nPts, nPts+nVol))\n",
    "for node, j in enumerate(range(j0, j1)):\n",
    "    for i in [i0-1,i1]:\n",
    "        cell = i*nx + j\n",
    "        NodesToEndothelialCells[node, node] = -1\n",
    "        NodesToEndothelialCells[node, nPts+cell] = 1\n",
    "for i in range(i0, i1):\n",
    "    for node, j in zip([0, nPts-1],[j0-1,j1]):\n",
    "        cell = i*nx + j\n",
    "        NodesToEndothelialCells[node, nPts+cell] = 1\n",
    "        NodesToEndothelialCells[node, node] = -1        "
   ]
  },
  {
   "cell_type": "code",
   "execution_count": 75,
   "id": "266fb85f",
   "metadata": {},
   "outputs": [
    {
     "data": {
      "text/plain": [
       "<matplotlib.collections.QuadMesh at 0x7f59c3989540>"
      ]
     },
     "execution_count": 75,
     "metadata": {},
     "output_type": "execute_result"
    }
   ],
   "source": [
    "Arr = NodesToEndothelialCells.toarray()\n",
    "u = np.zeros(nVol)\n",
    "for j in range(j0, j1):\n",
    "    for i in range(i0, i1):\n",
    "        u[i*nx+j] = 1\n",
    "\n",
    "for node in range(nPts):\n",
    "    u[np.nonzero(Arr[node, nPts:])] = 2\n",
    "\n",
    "plt.pcolormesh(u.reshape(X.shape), cmap='RdBu', edgecolor='k')"
   ]
  },
  {
   "cell_type": "code",
   "execution_count": 80,
   "id": "daa743a1",
   "metadata": {},
   "outputs": [
    {
     "data": {
      "text/plain": [
       "<matplotlib.colorbar.Colorbar at 0x7f59c372bd60>"
      ]
     },
     "execution_count": 80,
     "metadata": {},
     "output_type": "execute_result"
    }
   ],
   "source": [
    "Gamma = sp.diags([np.arange(nPts)+1], [0], shape=(nPts, nPts))\n",
    "MassExchange = NodesToEndothelialCells.T.dot(Gamma).dot(NodesToEndothelialCells)\n",
    "fig, ax = plt.subplots()\n",
    "c = ax.pcolormesh(abs(MassExchange.toarray()), cmap='RdBu')\n",
    "fig.colorbar(c, ax=ax)"
   ]
  },
  {
   "cell_type": "code",
   "execution_count": 81,
   "id": "b0a115b6",
   "metadata": {},
   "outputs": [
    {
     "name": "stdout",
     "output_type": "stream",
     "text": [
      "145 155 225 235\n",
      "145 0 [145 164 184 204 225] [-1.  1.  1.  1.  1.  1.] 2.0\n",
      "146 1 [146 226] [-2.  2.  2.] 2.0\n",
      "147 2 [147 227] [-3.  3.  3.] 2.0\n",
      "148 3 [148 228] [-4.  4.  4.] 2.0\n",
      "149 4 [149 229] [-5.  5.  5.] 2.0\n",
      "150 5 [150 230] [-6.  6.  6.] 2.0\n",
      "151 6 [151 231] [-7.  7.  7.] 2.0\n",
      "152 7 [152 232] [-8.  8.  8.] 2.0\n",
      "153 8 [153 233] [-9.  9.  9.] 2.0\n",
      "154 9 [154 175 195 215 234] [-10.  10.  10.  10.  10.  10.] 2.0\n",
      "164 0 [145 164 184 204 225] [-1.  1.  1.  1.  1.  1.] 2.0\n",
      "175 9 [154 175 195 215 234] [-10.  10.  10.  10.  10.  10.] 2.0\n",
      "184 0 [145 164 184 204 225] [-1.  1.  1.  1.  1.  1.] 2.0\n",
      "195 9 [154 175 195 215 234] [-10.  10.  10.  10.  10.  10.] 2.0\n",
      "204 0 [145 164 184 204 225] [-1.  1.  1.  1.  1.  1.] 2.0\n",
      "215 9 [154 175 195 215 234] [-10.  10.  10.  10.  10.  10.] 2.0\n",
      "225 0 [145 164 184 204 225] [-1.  1.  1.  1.  1.  1.] 2.0\n",
      "226 1 [146 226] [-2.  2.  2.] 2.0\n",
      "227 2 [147 227] [-3.  3.  3.] 2.0\n",
      "228 3 [148 228] [-4.  4.  4.] 2.0\n",
      "229 4 [149 229] [-5.  5.  5.] 2.0\n",
      "230 5 [150 230] [-6.  6.  6.] 2.0\n",
      "231 6 [151 231] [-7.  7.  7.] 2.0\n",
      "232 7 [152 232] [-8.  8.  8.] 2.0\n",
      "233 8 [153 233] [-9.  9.  9.] 2.0\n",
      "234 9 [154 175 195 215 234] [-10.  10.  10.  10.  10.  10.] 2.0\n"
     ]
    }
   ],
   "source": [
    "print((i0-1)*nx+j0, (i0-1)*nx+j1, i1*nx+j0, i1*nx+j1)\n",
    "Arr = MassExchange.toarray()[nPts:, :]\n",
    "for i in np.nonzero(u)[0]:\n",
    "    if u[i]==2:\n",
    "        nnz = np.nonzero(Arr[i,:])[0]\n",
    "        if nnz.size > 0:\n",
    "            print(i, nnz[0], nnz[1:]-nPts, Arr[i,:][nnz], u[i])\n"
   ]
  },
  {
   "cell_type": "code",
   "execution_count": 82,
   "id": "5a415c1b",
   "metadata": {},
   "outputs": [
    {
     "name": "stdout",
     "output_type": "stream",
     "text": [
      "0 [  0 155 174 194 214 235] [ 1. -1. -1. -1. -1. -1.]\n",
      "1 [  1 156 236] [ 2. -2. -2.]\n",
      "2 [  2 157 237] [ 3. -3. -3.]\n",
      "3 [  3 158 238] [ 4. -4. -4.]\n",
      "4 [  4 159 239] [ 5. -5. -5.]\n",
      "5 [  5 160 240] [ 6. -6. -6.]\n",
      "6 [  6 161 241] [ 7. -7. -7.]\n",
      "7 [  7 162 242] [ 8. -8. -8.]\n",
      "8 [  8 163 243] [ 9. -9. -9.]\n",
      "9 [  9 164 185 205 225 244] [ 10. -10. -10. -10. -10. -10.]\n"
     ]
    }
   ],
   "source": [
    "Arr = MassExchange.toarray()[:nPts, :]\n",
    "for node in range(nPts):\n",
    "    nnz = np.nonzero(Arr[node, :])[0]\n",
    "    print(node, nnz, Arr[node, nnz])"
   ]
  }
 ],
 "metadata": {
  "kernelspec": {
   "display_name": "Python 3",
   "language": "python",
   "name": "python3"
  },
  "language_info": {
   "codemirror_mode": {
    "name": "ipython",
    "version": 3
   },
   "file_extension": ".py",
   "mimetype": "text/x-python",
   "name": "python",
   "nbconvert_exporter": "python",
   "pygments_lexer": "ipython3",
   "version": "3.10.6"
  },
  "vscode": {
   "interpreter": {
    "hash": "916dbcbb3f70747c44a77c7bcd40155683ae19c65e1c03b4aa3499c5328201f1"
   }
  }
 },
 "nbformat": 4,
 "nbformat_minor": 5
}
